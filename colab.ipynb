{
  "cells": [
    {
      "cell_type": "code",
      "execution_count": null,
      "metadata": {
        "colab": {
          "base_uri": "https://localhost:8080/"
        },
        "collapsed": true,
        "id": "MSqO1DagjN4e",
        "outputId": "70cb1dec-ac2a-4a77-aa31-85a4dbc6cfe6"
      },
      "outputs": [],
      "source": [
        "# @title # **Installation**\n",
        "\n",
        "!git clone https://github.com/brandon57l/MoeChat-Live2D\n",
        "\n",
        "%cd MoeChat-Live2D\n",
        "\n",
        "!pip install -r requirements.txt\n",
        "\n",
        "!wget -P ~ https://github.com/cloudflare/cloudflared/releases/latest/download/cloudflared-linux-amd64.deb\n",
        "!dpkg -i ~/cloudflared-linux-amd64.deb\n",
        "!pip install Flask flask-cors soundfile\n",
        "\n",
        "# 1️⃣ Install kokoro\n",
        "!pip install -q kokoro>=0.9.2 soundfile\n",
        "# 2️⃣ Install espeak, used for English OOD fallback and some non-English languages\n",
        "!apt-get -qq -y install espeak-ng > /dev/null 2>&1\n",
        "# 🇪🇸 'e' => Spanish es\n",
        "# 🇫🇷 'f' => French fr-fr\n",
        "# 🇮🇳 'h' => Hindi hi\n",
        "# 🇮🇹 'i' => Italian it\n",
        "# 🇧🇷 'p' => Brazilian Portuguese pt-br\n",
        "\n",
        "!pip install misaki[zh]\n",
        "\n",
        "voices = ['zf_xiaobei', 'zf_xiaoni', 'zf_xiaoxiao', 'zf_xiaoyi', 'zm_yunjian', 'zm_yunxi', 'zm_yunxia', 'zm_yunyang']"
      ]
    },
    {
      "cell_type": "code",
      "execution_count": null,
      "metadata": {
        "cellView": "form",
        "colab": {
          "base_uri": "https://localhost:8080/",
          "height": 1000
        },
        "collapsed": true,
        "id": "d83yNXTalcIC",
        "outputId": "8bf41bf5-c547-4ba7-bed3-0a1eb5118c1d"
      },
      "outputs": [],
      "source": [
        "# @title # **Start APP**\n",
        "# @markdown <-- Start the cell.\n",
        "\n",
        "from IPython.display import clear_output, HTML\n",
        "from time import sleep as dodo\n",
        "import subprocess\n",
        "import threading\n",
        "import time\n",
        "import socket\n",
        "import urllib.request\n",
        "\n",
        "def iframe_thread(port):\n",
        "  while True:\n",
        "      time.sleep(0.5)\n",
        "      sock = socket.socket(socket.AF_INET, socket.SOCK_STREAM)\n",
        "      result = sock.connect_ex(('127.0.0.1', port))\n",
        "      if result == 0:\n",
        "        break\n",
        "      sock.close()\n",
        "  clear_output()\n",
        "  display(HTML(f'<strong style=\"color: blue;\">Trying to launch the App on the Web(if it gets stuck here cloudflared is having issues)</strong>'))\n",
        "  p = subprocess.Popen([\"cloudflared\", \"tunnel\", \"--url\", \"http://127.0.0.1:{}\".format(port)], stdout=subprocess.PIPE, stderr=subprocess.PIPE)\n",
        "  for line in p.stderr:\n",
        "    l = line.decode()\n",
        "    if \"trycloudflare.com \" in l:\n",
        "      clear_output()\n",
        "      display(HTML('<h1 style=\"color: green;\">API Running! ✅</h1></br>'))\n",
        "      url = l[l.find(\"http\"):]\n",
        "      print(\"Voici l'URL pour accéder à l'application :\", url)\n",
        "\n",
        "clear_output()\n",
        "\n",
        "threading.Thread(target=iframe_thread, daemon=True, args=(5000,)).start()\n",
        "\n",
        "dodo(2)\n",
        "\n",
        "!python app.py"
      ]
    }
  ],
  "metadata": {
    "accelerator": "GPU",
    "colab": {
      "gpuType": "T4",
      "provenance": []
    },
    "kernelspec": {
      "display_name": "Python 3",
      "name": "python3"
    },
    "language_info": {
      "name": "python"
    }
  },
  "nbformat": 4,
  "nbformat_minor": 0
}
